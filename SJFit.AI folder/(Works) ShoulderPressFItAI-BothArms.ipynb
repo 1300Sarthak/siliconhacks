{
 "cells": [
  {
   "cell_type": "markdown",
   "metadata": {},
   "source": [
    "### Install and Import Dependencies"
   ]
  },
  {
   "cell_type": "code",
   "execution_count": 1,
   "metadata": {
    "tags": []
   },
   "outputs": [
    {
     "name": "stdout",
     "output_type": "stream",
     "text": [
      "Requirement already satisfied: opencv-python in ./anaconda3/lib/python3.11/site-packages (4.9.0.80)\n",
      "Requirement already satisfied: numpy>=1.21.2 in ./anaconda3/lib/python3.11/site-packages (from opencv-python) (1.23.5)\n"
     ]
    }
   ],
   "source": [
    "!pip install opencv-python"
   ]
  },
  {
   "cell_type": "code",
   "execution_count": 2,
   "metadata": {
    "tags": []
   },
   "outputs": [
    {
     "name": "stdout",
     "output_type": "stream",
     "text": [
      "Collecting mediapipe-model-maker==0.2.1.3\n",
      "  Obtaining dependency information for mediapipe-model-maker==0.2.1.3 from https://files.pythonhosted.org/packages/9a/f4/26b03c5b5cacd9bcbaf06a906915f56d6b7cd7276c28c246db4a42c1f35b/mediapipe_model_maker-0.2.1.3-py3-none-any.whl.metadata\n",
      "  Using cached mediapipe_model_maker-0.2.1.3-py3-none-any.whl.metadata (1.6 kB)\n",
      "Requirement already satisfied: absl-py in ./anaconda3/lib/python3.11/site-packages (from mediapipe-model-maker==0.2.1.3) (2.0.0)\n",
      "Requirement already satisfied: mediapipe>=0.10.0 in ./anaconda3/lib/python3.11/site-packages (from mediapipe-model-maker==0.2.1.3) (0.10.11)\n",
      "Requirement already satisfied: numpy in ./anaconda3/lib/python3.11/site-packages (from mediapipe-model-maker==0.2.1.3) (1.23.5)\n",
      "Requirement already satisfied: opencv-python in ./anaconda3/lib/python3.11/site-packages (from mediapipe-model-maker==0.2.1.3) (4.9.0.80)\n",
      "Requirement already satisfied: tensorflow>=2.10 in ./anaconda3/lib/python3.11/site-packages (from mediapipe-model-maker==0.2.1.3) (2.14.0)\n",
      "Collecting tensorflow-addons (from mediapipe-model-maker==0.2.1.3)\n",
      "  Obtaining dependency information for tensorflow-addons from https://files.pythonhosted.org/packages/40/5b/570cfbe49634b934c7379a4c2c57aed7cc747dade3879426e036cebc3fe3/tensorflow_addons-0.23.0-cp311-cp311-macosx_11_0_arm64.whl.metadata\n",
      "  Using cached tensorflow_addons-0.23.0-cp311-cp311-macosx_11_0_arm64.whl.metadata (1.7 kB)\n",
      "Collecting tensorflow-datasets (from mediapipe-model-maker==0.2.1.3)\n",
      "  Obtaining dependency information for tensorflow-datasets from https://files.pythonhosted.org/packages/fe/18/4865973f5469cfe33bbe1cfc2f1918335eb44f4cc3d316c1bce22c1af2bc/tensorflow_datasets-4.9.4-py3-none-any.whl.metadata\n",
      "  Using cached tensorflow_datasets-4.9.4-py3-none-any.whl.metadata (9.2 kB)\n",
      "Collecting tensorflow-hub (from mediapipe-model-maker==0.2.1.3)\n",
      "  Obtaining dependency information for tensorflow-hub from https://files.pythonhosted.org/packages/e5/50/00dba77925bf2a0a1e45d7bcf8a69a1d2534fb4bb277d9010bd148d2235e/tensorflow_hub-0.16.1-py2.py3-none-any.whl.metadata\n",
      "  Using cached tensorflow_hub-0.16.1-py2.py3-none-any.whl.metadata (1.3 kB)\n",
      "Collecting tf-models-official>=2.13.1 (from mediapipe-model-maker==0.2.1.3)\n",
      "  Obtaining dependency information for tf-models-official>=2.13.1 from https://files.pythonhosted.org/packages/a2/fa/6e335dce23cabebfc996b37a50b71d9bba1f47e483753501704e78fe31a1/tf_models_official-2.16.0-py2.py3-none-any.whl.metadata\n",
      "  Using cached tf_models_official-2.16.0-py2.py3-none-any.whl.metadata (1.4 kB)\n",
      "Requirement already satisfied: attrs>=19.1.0 in ./anaconda3/lib/python3.11/site-packages (from mediapipe>=0.10.0->mediapipe-model-maker==0.2.1.3) (22.1.0)\n",
      "Requirement already satisfied: flatbuffers>=2.0 in ./anaconda3/lib/python3.11/site-packages (from mediapipe>=0.10.0->mediapipe-model-maker==0.2.1.3) (23.5.26)\n",
      "Requirement already satisfied: jax in ./anaconda3/lib/python3.11/site-packages (from mediapipe>=0.10.0->mediapipe-model-maker==0.2.1.3) (0.4.26)\n",
      "Requirement already satisfied: jaxlib in ./anaconda3/lib/python3.11/site-packages (from mediapipe>=0.10.0->mediapipe-model-maker==0.2.1.3) (0.4.26)\n",
      "Requirement already satisfied: matplotlib in ./anaconda3/lib/python3.11/site-packages (from mediapipe>=0.10.0->mediapipe-model-maker==0.2.1.3) (3.7.1)\n",
      "Requirement already satisfied: torch in ./anaconda3/lib/python3.11/site-packages (from mediapipe>=0.10.0->mediapipe-model-maker==0.2.1.3) (2.0.1)\n",
      "Requirement already satisfied: opencv-contrib-python in ./anaconda3/lib/python3.11/site-packages (from mediapipe>=0.10.0->mediapipe-model-maker==0.2.1.3) (4.9.0.80)\n",
      "Requirement already satisfied: protobuf<4,>=3.11 in ./anaconda3/lib/python3.11/site-packages (from mediapipe>=0.10.0->mediapipe-model-maker==0.2.1.3) (3.20.3)\n",
      "Requirement already satisfied: sounddevice>=0.4.4 in ./anaconda3/lib/python3.11/site-packages (from mediapipe>=0.10.0->mediapipe-model-maker==0.2.1.3) (0.4.6)\n",
      "Requirement already satisfied: tensorflow-macos==2.14.0 in ./anaconda3/lib/python3.11/site-packages (from tensorflow>=2.10->mediapipe-model-maker==0.2.1.3) (2.14.0)\n",
      "Requirement already satisfied: astunparse>=1.6.0 in ./anaconda3/lib/python3.11/site-packages (from tensorflow-macos==2.14.0->tensorflow>=2.10->mediapipe-model-maker==0.2.1.3) (1.6.3)\n",
      "Requirement already satisfied: gast!=0.5.0,!=0.5.1,!=0.5.2,>=0.2.1 in ./anaconda3/lib/python3.11/site-packages (from tensorflow-macos==2.14.0->tensorflow>=2.10->mediapipe-model-maker==0.2.1.3) (0.5.4)\n",
      "Requirement already satisfied: google-pasta>=0.1.1 in ./anaconda3/lib/python3.11/site-packages (from tensorflow-macos==2.14.0->tensorflow>=2.10->mediapipe-model-maker==0.2.1.3) (0.2.0)\n",
      "Requirement already satisfied: h5py>=2.9.0 in ./anaconda3/lib/python3.11/site-packages (from tensorflow-macos==2.14.0->tensorflow>=2.10->mediapipe-model-maker==0.2.1.3) (3.7.0)\n",
      "Requirement already satisfied: libclang>=13.0.0 in ./anaconda3/lib/python3.11/site-packages (from tensorflow-macos==2.14.0->tensorflow>=2.10->mediapipe-model-maker==0.2.1.3) (16.0.6)\n",
      "Requirement already satisfied: ml-dtypes==0.2.0 in ./anaconda3/lib/python3.11/site-packages (from tensorflow-macos==2.14.0->tensorflow>=2.10->mediapipe-model-maker==0.2.1.3) (0.2.0)\n",
      "Requirement already satisfied: opt-einsum>=2.3.2 in ./anaconda3/lib/python3.11/site-packages (from tensorflow-macos==2.14.0->tensorflow>=2.10->mediapipe-model-maker==0.2.1.3) (3.3.0)\n",
      "Requirement already satisfied: packaging in ./anaconda3/lib/python3.11/site-packages (from tensorflow-macos==2.14.0->tensorflow>=2.10->mediapipe-model-maker==0.2.1.3) (23.0)\n",
      "Requirement already satisfied: setuptools in ./anaconda3/lib/python3.11/site-packages (from tensorflow-macos==2.14.0->tensorflow>=2.10->mediapipe-model-maker==0.2.1.3) (68.0.0)\n",
      "Requirement already satisfied: six>=1.12.0 in ./anaconda3/lib/python3.11/site-packages (from tensorflow-macos==2.14.0->tensorflow>=2.10->mediapipe-model-maker==0.2.1.3) (1.16.0)\n",
      "Requirement already satisfied: termcolor>=1.1.0 in ./anaconda3/lib/python3.11/site-packages (from tensorflow-macos==2.14.0->tensorflow>=2.10->mediapipe-model-maker==0.2.1.3) (2.3.0)\n",
      "Requirement already satisfied: typing-extensions>=3.6.6 in ./anaconda3/lib/python3.11/site-packages (from tensorflow-macos==2.14.0->tensorflow>=2.10->mediapipe-model-maker==0.2.1.3) (4.7.1)\n",
      "Requirement already satisfied: wrapt<1.15,>=1.11.0 in ./anaconda3/lib/python3.11/site-packages (from tensorflow-macos==2.14.0->tensorflow>=2.10->mediapipe-model-maker==0.2.1.3) (1.14.1)\n",
      "Requirement already satisfied: tensorflow-io-gcs-filesystem>=0.23.1 in ./anaconda3/lib/python3.11/site-packages (from tensorflow-macos==2.14.0->tensorflow>=2.10->mediapipe-model-maker==0.2.1.3) (0.34.0)\n",
      "Requirement already satisfied: grpcio<2.0,>=1.24.3 in ./anaconda3/lib/python3.11/site-packages (from tensorflow-macos==2.14.0->tensorflow>=2.10->mediapipe-model-maker==0.2.1.3) (1.59.0)\n",
      "Requirement already satisfied: tensorboard<2.15,>=2.14 in ./anaconda3/lib/python3.11/site-packages (from tensorflow-macos==2.14.0->tensorflow>=2.10->mediapipe-model-maker==0.2.1.3) (2.14.1)\n",
      "Requirement already satisfied: tensorflow-estimator<2.15,>=2.14.0 in ./anaconda3/lib/python3.11/site-packages (from tensorflow-macos==2.14.0->tensorflow>=2.10->mediapipe-model-maker==0.2.1.3) (2.14.0)\n",
      "Requirement already satisfied: keras<2.15,>=2.14.0 in ./anaconda3/lib/python3.11/site-packages (from tensorflow-macos==2.14.0->tensorflow>=2.10->mediapipe-model-maker==0.2.1.3) (2.14.0)\n",
      "Collecting Cython (from tf-models-official>=2.13.1->mediapipe-model-maker==0.2.1.3)\n",
      "  Obtaining dependency information for Cython from https://files.pythonhosted.org/packages/b6/83/b0a63fc7b315edd46821a1a381d18765c1353d201246da44558175cddd56/Cython-3.0.10-py2.py3-none-any.whl.metadata\n",
      "  Using cached Cython-3.0.10-py2.py3-none-any.whl.metadata (3.2 kB)\n",
      "Requirement already satisfied: Pillow in ./anaconda3/lib/python3.11/site-packages (from tf-models-official>=2.13.1->mediapipe-model-maker==0.2.1.3) (9.4.0)\n",
      "Collecting gin-config (from tf-models-official>=2.13.1->mediapipe-model-maker==0.2.1.3)\n",
      "  Obtaining dependency information for gin-config from https://files.pythonhosted.org/packages/11/8f/9f1894efa1bb15e98613244b24dfbacfe2309e0ac3cfc27d4c608c2270d2/gin_config-0.5.0-py3-none-any.whl.metadata\n",
      "  Using cached gin_config-0.5.0-py3-none-any.whl.metadata (2.9 kB)\n",
      "Collecting google-api-python-client>=1.6.7 (from tf-models-official>=2.13.1->mediapipe-model-maker==0.2.1.3)\n",
      "  Obtaining dependency information for google-api-python-client>=1.6.7 from https://files.pythonhosted.org/packages/fc/8e/c62e3ebc586e93a49f4276131eed57d11d2dc9af123dd532f259d8ed25b0/google_api_python_client-2.127.0-py2.py3-none-any.whl.metadata\n",
      "  Using cached google_api_python_client-2.127.0-py2.py3-none-any.whl.metadata (6.7 kB)\n",
      "Collecting immutabledict (from tf-models-official>=2.13.1->mediapipe-model-maker==0.2.1.3)\n",
      "  Obtaining dependency information for immutabledict from https://files.pythonhosted.org/packages/e2/13/3cf4ac5b3403f3456e645c4533883ef67b1bb0c72e56b79c707715f57a74/immutabledict-4.2.0-py3-none-any.whl.metadata\n",
      "  Using cached immutabledict-4.2.0-py3-none-any.whl.metadata (3.4 kB)\n",
      "Collecting kaggle>=1.3.9 (from tf-models-official>=2.13.1->mediapipe-model-maker==0.2.1.3)\n",
      "  Using cached kaggle-1.6.12.tar.gz (79 kB)\n",
      "  Preparing metadata (setup.py) ... \u001b[?25ldone\n",
      "\u001b[?25hCollecting oauth2client (from tf-models-official>=2.13.1->mediapipe-model-maker==0.2.1.3)\n",
      "  Obtaining dependency information for oauth2client from https://files.pythonhosted.org/packages/95/a9/4f25a14d23f0786b64875b91784607c2277eff25d48f915e39ff0cff505a/oauth2client-4.1.3-py2.py3-none-any.whl.metadata\n",
      "  Using cached oauth2client-4.1.3-py2.py3-none-any.whl.metadata (1.2 kB)\n",
      "Collecting opencv-python-headless (from tf-models-official>=2.13.1->mediapipe-model-maker==0.2.1.3)\n",
      "  Obtaining dependency information for opencv-python-headless from https://files.pythonhosted.org/packages/32/0c/a59f2a40d6058ee8126668dc5dff6977c913f6ecd21dbd15b41563409a18/opencv_python_headless-4.9.0.80-cp37-abi3-macosx_11_0_arm64.whl.metadata\n",
      "  Using cached opencv_python_headless-4.9.0.80-cp37-abi3-macosx_11_0_arm64.whl.metadata (20 kB)\n",
      "Requirement already satisfied: pandas>=0.22.0 in ./anaconda3/lib/python3.11/site-packages (from tf-models-official>=2.13.1->mediapipe-model-maker==0.2.1.3) (1.5.3)\n",
      "Requirement already satisfied: psutil>=5.4.3 in ./anaconda3/lib/python3.11/site-packages (from tf-models-official>=2.13.1->mediapipe-model-maker==0.2.1.3) (5.9.0)\n",
      "Requirement already satisfied: py-cpuinfo>=3.3.0 in ./anaconda3/lib/python3.11/site-packages (from tf-models-official>=2.13.1->mediapipe-model-maker==0.2.1.3) (8.0.0)\n",
      "Collecting pycocotools (from tf-models-official>=2.13.1->mediapipe-model-maker==0.2.1.3)\n",
      "  Obtaining dependency information for pycocotools from https://files.pythonhosted.org/packages/0c/fe/fd252ca45e6f9351390059cc2964fc89cc3137895c4711ae8975aa6e098f/pycocotools-2.0.7-cp311-cp311-macosx_10_9_universal2.whl.metadata\n",
      "  Using cached pycocotools-2.0.7-cp311-cp311-macosx_10_9_universal2.whl.metadata (1.1 kB)\n",
      "Requirement already satisfied: pyyaml>=6.0.0 in ./anaconda3/lib/python3.11/site-packages (from tf-models-official>=2.13.1->mediapipe-model-maker==0.2.1.3) (6.0)\n",
      "Collecting sacrebleu (from tf-models-official>=2.13.1->mediapipe-model-maker==0.2.1.3)\n",
      "  Obtaining dependency information for sacrebleu from https://files.pythonhosted.org/packages/df/d5/f07d3c37bd98db883330276d77e7b04b6c50564c68fb95a76e05422a2850/sacrebleu-2.4.2-py3-none-any.whl.metadata\n",
      "  Using cached sacrebleu-2.4.2-py3-none-any.whl.metadata (58 kB)\n",
      "Requirement already satisfied: scipy>=0.19.1 in ./anaconda3/lib/python3.11/site-packages (from tf-models-official>=2.13.1->mediapipe-model-maker==0.2.1.3) (1.10.1)\n",
      "Collecting sentencepiece (from tf-models-official>=2.13.1->mediapipe-model-maker==0.2.1.3)\n",
      "  Obtaining dependency information for sentencepiece from https://files.pythonhosted.org/packages/de/42/ae30952c4a0bd773e90c9bf2579f5533037c886dfc8ec68133d5694f4dd2/sentencepiece-0.2.0-cp311-cp311-macosx_11_0_arm64.whl.metadata\n",
      "  Using cached sentencepiece-0.2.0-cp311-cp311-macosx_11_0_arm64.whl.metadata (7.7 kB)\n",
      "Collecting seqeval (from tf-models-official>=2.13.1->mediapipe-model-maker==0.2.1.3)\n",
      "  Using cached seqeval-1.2.2.tar.gz (43 kB)\n",
      "  Preparing metadata (setup.py) ... \u001b[?25ldone\n",
      "\u001b[?25hCollecting tensorflow-model-optimization>=0.4.1 (from tf-models-official>=2.13.1->mediapipe-model-maker==0.2.1.3)\n",
      "  Obtaining dependency information for tensorflow-model-optimization>=0.4.1 from https://files.pythonhosted.org/packages/5a/a0/f38c9ce977285d3f347f6d64cf227924fe9fc97d780d6df4a55563e311af/tensorflow_model_optimization-0.8.0-py2.py3-none-any.whl.metadata\n",
      "  Using cached tensorflow_model_optimization-0.8.0-py2.py3-none-any.whl.metadata (904 bytes)\n",
      "INFO: pip is looking at multiple versions of tf-models-official to determine which version is compatible with other requirements. This could take a while.\n",
      "Collecting tf-models-official>=2.13.1 (from mediapipe-model-maker==0.2.1.3)\n",
      "  Obtaining dependency information for tf-models-official>=2.13.1 from https://files.pythonhosted.org/packages/39/84/fa71440981a298a9a9fa02319e9b43bbe98dafe4e0a91846d679814cd6d4/tf_models_official-2.15.0-py2.py3-none-any.whl.metadata\n",
      "  Using cached tf_models_official-2.15.0-py2.py3-none-any.whl.metadata (1.4 kB)\n",
      "  Obtaining dependency information for tf-models-official>=2.13.1 from https://files.pythonhosted.org/packages/a8/df/c7c5c15af9b769dfbede372f8e9165e58ed113cddef2abbf5b4bf2fe9aa5/tf_models_official-2.14.2-py2.py3-none-any.whl.metadata\n",
      "  Using cached tf_models_official-2.14.2-py2.py3-none-any.whl.metadata (1.4 kB)\n",
      "  Obtaining dependency information for tf-models-official>=2.13.1 from https://files.pythonhosted.org/packages/ac/2f/adeac894e230110ec7574759d02ede7067107bdef572b071c74dfb82f1f3/tf_models_official-2.14.1-py2.py3-none-any.whl.metadata\n",
      "  Using cached tf_models_official-2.14.1-py2.py3-none-any.whl.metadata (1.4 kB)\n",
      "  Obtaining dependency information for tf-models-official>=2.13.1 from https://files.pythonhosted.org/packages/7b/73/b63c17a91ac87ad18f82abc3ec3ce0817f17990bb247a0b6dd82a32e9072/tf_models_official-2.14.0-py2.py3-none-any.whl.metadata\n",
      "  Using cached tf_models_official-2.14.0-py2.py3-none-any.whl.metadata (1.4 kB)\n",
      "  Obtaining dependency information for tf-models-official>=2.13.1 from https://files.pythonhosted.org/packages/d8/c3/4511e49412492966f4e6e0a20b41ae66d027e5a76e8c2b436b591ecc4273/tf_models_official-2.13.2-py2.py3-none-any.whl.metadata\n",
      "  Using cached tf_models_official-2.13.2-py2.py3-none-any.whl.metadata (1.4 kB)\n",
      "  Obtaining dependency information for tf-models-official>=2.13.1 from https://files.pythonhosted.org/packages/c9/c6/881f37a807affc009ccf84dfd9964b622e91e664f23a1cec1e443aa66ed1/tf_models_official-2.13.1-py2.py3-none-any.whl.metadata\n",
      "  Using cached tf_models_official-2.13.1-py2.py3-none-any.whl.metadata (1.4 kB)\n",
      "Collecting pyyaml<5.4.0,>=5.1 (from tf-models-official>=2.13.1->mediapipe-model-maker==0.2.1.3)\n",
      "  Using cached PyYAML-5.3.1.tar.gz (269 kB)\n",
      "  Preparing metadata (setup.py) ... \u001b[?25ldone\n",
      "\u001b[31mERROR: Cannot install mediapipe-model-maker because these package versions have conflicting dependencies.\u001b[0m\u001b[31m\n",
      "\u001b[0m\u001b[?25h\n",
      "The conflict is caused by:\n",
      "    tf-models-official 2.16.0 depends on tensorflow-text~=2.16.1\n",
      "    tf-models-official 2.15.0 depends on tensorflow-text~=2.15.0\n",
      "    tf-models-official 2.14.2 depends on tensorflow-text~=2.14.0\n",
      "    tf-models-official 2.14.1 depends on tensorflow-text~=2.14.0\n",
      "    tf-models-official 2.14.0 depends on tensorflow-text~=2.14.0\n",
      "    tf-models-official 2.13.2 depends on tensorflow-text~=2.13.0\n",
      "    tf-models-official 2.13.1 depends on tensorflow-text~=2.13.0\n",
      "\n",
      "To fix this you could try to:\n",
      "1. loosen the range of package versions you've specified\n",
      "2. remove package versions to allow pip attempt to solve the dependency conflict\n",
      "\n",
      "\u001b[31mERROR: ResolutionImpossible: for help visit https://pip.pypa.io/en/latest/topics/dependency-resolution/#dealing-with-dependency-conflicts\u001b[0m\u001b[31m\n",
      "\u001b[0mNote: you may need to restart the kernel to use updated packages.\n"
     ]
    }
   ],
   "source": [
    "pip install mediapipe-model-maker==0.2.1.3"
   ]
  },
  {
   "cell_type": "code",
   "execution_count": 3,
   "metadata": {
    "tags": []
   },
   "outputs": [
    {
     "name": "stderr",
     "output_type": "stream",
     "text": [
      "objc[2955]: Class CaptureDelegate is implemented in both /Users/edwinyue/anaconda3/lib/python3.11/site-packages/cv2/cv2.abi3.so (0x17950a620) and /Users/edwinyue/anaconda3/lib/python3.11/site-packages/mediapipe/.dylibs/libopencv_videoio.3.4.16.dylib (0x117f54860). One of the two will be used. Which one is undefined.\n",
      "objc[2955]: Class CVWindow is implemented in both /Users/edwinyue/anaconda3/lib/python3.11/site-packages/cv2/cv2.abi3.so (0x17950a670) and /Users/edwinyue/anaconda3/lib/python3.11/site-packages/mediapipe/.dylibs/libopencv_highgui.3.4.16.dylib (0x110950a68). One of the two will be used. Which one is undefined.\n",
      "objc[2955]: Class CVView is implemented in both /Users/edwinyue/anaconda3/lib/python3.11/site-packages/cv2/cv2.abi3.so (0x17950a698) and /Users/edwinyue/anaconda3/lib/python3.11/site-packages/mediapipe/.dylibs/libopencv_highgui.3.4.16.dylib (0x110950a90). One of the two will be used. Which one is undefined.\n",
      "objc[2955]: Class CVSlider is implemented in both /Users/edwinyue/anaconda3/lib/python3.11/site-packages/cv2/cv2.abi3.so (0x17950a6c0) and /Users/edwinyue/anaconda3/lib/python3.11/site-packages/mediapipe/.dylibs/libopencv_highgui.3.4.16.dylib (0x110950ab8). One of the two will be used. Which one is undefined.\n"
     ]
    }
   ],
   "source": [
    "import cv2\n",
    "import mediapipe as mp\n",
    "import numpy as np\n",
    "mp_drawing = mp.solutions.drawing_utils\n",
    "mp_pose = mp.solutions.pose"
   ]
  },
  {
   "cell_type": "markdown",
   "metadata": {},
   "source": [
    "### Make Detections"
   ]
  },
  {
   "cell_type": "markdown",
   "metadata": {},
   "source": [
    "### Determining Joints"
   ]
  },
  {
   "cell_type": "markdown",
   "metadata": {},
   "source": [
    "<img src=\"https://i.imgur.com/3j8BPdc.png\" style=\"height:300px\" >"
   ]
  },
  {
   "cell_type": "code",
   "execution_count": 24,
   "metadata": {
    "tags": []
   },
   "outputs": [
    {
     "data": {
      "text/plain": [
       "0.9983878135681152"
      ]
     },
     "execution_count": 24,
     "metadata": {},
     "output_type": "execute_result"
    }
   ],
   "source": [
    "#landmarks[mp_pose.PoseLandmark.LEFT_SHOULDER.value].visibility"
   ]
  },
  {
   "cell_type": "code",
   "execution_count": 25,
   "metadata": {
    "tags": []
   },
   "outputs": [
    {
     "data": {
      "text/plain": [
       "x: 0.99030375\n",
       "y: 1.2366229\n",
       "z: -0.33999118\n",
       "visibility: 0.20503038"
      ]
     },
     "execution_count": 25,
     "metadata": {},
     "output_type": "execute_result"
    }
   ],
   "source": [
    "#landmarks[mp_pose.PoseLandmark.LEFT_ELBOW.value]"
   ]
  },
  {
   "cell_type": "code",
   "execution_count": 26,
   "metadata": {
    "tags": []
   },
   "outputs": [
    {
     "data": {
      "text/plain": [
       "x: 0.9904549\n",
       "y: 1.6641017\n",
       "z: -0.7625021\n",
       "visibility: 0.025868502"
      ]
     },
     "execution_count": 26,
     "metadata": {},
     "output_type": "execute_result"
    }
   ],
   "source": [
    "#landmarks[mp_pose.PoseLandmark.LEFT_WRIST.value]"
   ]
  },
  {
   "cell_type": "code",
   "execution_count": 38,
   "metadata": {
    "tags": []
   },
   "outputs": [
    {
     "data": {
      "text/plain": [
       "x: 0.27493525\n",
       "y: 0.94814736\n",
       "z: -0.5150083\n",
       "visibility: 0.696514"
      ]
     },
     "execution_count": 38,
     "metadata": {},
     "output_type": "execute_result"
    }
   ],
   "source": [
    "#landmarks[mp_pose.PoseLandmark.RIGHT_ELBOW.value]"
   ]
  },
  {
   "cell_type": "code",
   "execution_count": 39,
   "metadata": {
    "tags": []
   },
   "outputs": [
    {
     "data": {
      "text/plain": [
       "x: 0.16135724\n",
       "y: 1.4517808\n",
       "z: -1.2381706\n",
       "visibility: 0.4696596"
      ]
     },
     "execution_count": 39,
     "metadata": {},
     "output_type": "execute_result"
    }
   ],
   "source": [
    "#landmarks[mp_pose.PoseLandmark.RIGHT_WRIST.value]"
   ]
  },
  {
   "cell_type": "markdown",
   "metadata": {},
   "source": [
    "# 3. Calculate Angles"
   ]
  },
  {
   "cell_type": "code",
   "execution_count": null,
   "metadata": {
    "tags": []
   },
   "outputs": [],
   "source": [
    "def calculate_angle(a,b,c):\n",
    "    a = np.array(a) # First\n",
    "    b = np.array(b) # Mid\n",
    "    c = np.array(c) # End\n",
    "    \n",
    "    radians = np.arctan2(c[1]-b[1], c[0]-b[0]) - np.arctan2(a[1]-b[1], a[0]-b[0])\n",
    "    angle = np.abs(radians*180.0/np.pi)\n",
    "    \n",
    "    if angle >180.0:\n",
    "        angle = 360-angle\n",
    "        \n",
    "    return angle "
   ]
  },
  {
   "cell_type": "markdown",
   "metadata": {
    "tags": []
   },
   "source": [
    "### Double Arm Curl Counter"
   ]
  },
  {
   "cell_type": "code",
   "execution_count": null,
   "metadata": {
    "tags": []
   },
   "outputs": [],
   "source": [
    "cap = cv2.VideoCapture(0)\n",
    "\n",
    "# Curl counter variables\n",
    "Lcounter = 0 \n",
    "Rcounter = 0\n",
    "Lstage = None\n",
    "Rstage = None\n",
    "\n",
    "## Setup mediapipe instance\n",
    "with mp_pose.Pose(min_detection_confidence=0.5, min_tracking_confidence=0.5) as pose:\n",
    "    while cap.isOpened():\n",
    "        ret, frame = cap.read()\n",
    "        \n",
    "        # Recolor image to RGB\n",
    "        image = cv2.cvtColor(frame, cv2.COLOR_BGR2RGB)\n",
    "        image.flags.writeable = False\n",
    "      \n",
    "        # Make detection\n",
    "        results = pose.process(image)\n",
    "    \n",
    "        # Recolor back to BGR\n",
    "        image.flags.writeable = True\n",
    "        image = cv2.cvtColor(image, cv2.COLOR_RGB2BGR)\n",
    "        \n",
    "        # Extract landmarks\n",
    "        try:\n",
    "            landmarks = results.pose_landmarks.landmark\n",
    "            \n",
    "            # Get coordinates\n",
    "            Lshoulder = [landmarks[mp_pose.PoseLandmark.LEFT_SHOULDER.value].x,landmarks[mp_pose.PoseLandmark.LEFT_SHOULDER.value].y]\n",
    "            Lelbow = [landmarks[mp_pose.PoseLandmark.LEFT_ELBOW.value].x,landmarks[mp_pose.PoseLandmark.LEFT_ELBOW.value].y]\n",
    "            Lwrist = [landmarks[mp_pose.PoseLandmark.LEFT_WRIST.value].x,landmarks[mp_pose.PoseLandmark.LEFT_WRIST.value].y]\n",
    "            # Get coordinates\n",
    "            Rshoulder = [landmarks[mp_pose.PoseLandmark.RIGHT_SHOULDER.value].x,landmarks[mp_pose.PoseLandmark.RIGHT_SHOULDER.value].y]\n",
    "            Relbow = [landmarks[mp_pose.PoseLandmark.RIGHT_ELBOW.value].x,landmarks[mp_pose.PoseLandmark.RIGHT_ELBOW.value].y]\n",
    "            Rwrist = [landmarks[mp_pose.PoseLandmark.RIGHT_WRIST.value].x,landmarks[mp_pose.PoseLandmark.RIGHT_WRIST.value].y]\n",
    "            \n",
    "            # Calculate angle\n",
    "            Langle = calculate_angle(Lshoulder, Lelbow, Lwrist)\n",
    "             # Calculate angle\n",
    "            Rangle = calculate_angle(Rshoulder, Relbow, Rwrist)\n",
    "            \n",
    "            \n",
    "            # Visualize angle\n",
    "            cv2.putText(image, str(Langle), \n",
    "                           tuple(np.multiply(Lelbow, [640, 480]).astype(int)), \n",
    "                           cv2.FONT_HERSHEY_SIMPLEX, 0.5, (255, 255, 255), 2, cv2.LINE_AA\n",
    "                                )\n",
    "            # Visualize angle\n",
    "            cv2.putText(image, str(Rangle), \n",
    "                           tuple(np.multiply(Relbow, [640, 480]).astype(int)), \n",
    "                           cv2.FONT_HERSHEY_SIMPLEX, 0.5, (255, 255, 255), 2, cv2.LINE_AA\n",
    "                       )\n",
    "            \n",
    "              \n",
    "\n",
    "            # Curl counter logic\n",
    "            if Langle < 45:\n",
    "                Lstage = \"down\"\n",
    "            elif Langle > 55 and Lstage =='down':\n",
    "                Lstage=\"up\"\n",
    "                Lcounter +=1\n",
    "                print(Lcounter)\n",
    "\n",
    "            if Rangle < 45:\n",
    "                Rstage = \"down\"\n",
    "            elif Rangle > 55 and Rstage =='down':\n",
    "                Rstage=\"up\"\n",
    "                Rcounter +=1\n",
    "                print(Rcounter)\n",
    "                \n",
    "         \n",
    "                       \n",
    "        except:\n",
    "            pass\n",
    "        \n",
    "        # Render curl counter\n",
    "        # Setup status box\n",
    "        cv2.rectangle(image, (0,0), (225,73), (245,117,16), -1)\n",
    "        \n",
    "        # Rep data\n",
    "        cv2.putText(image, 'REPS', (15,12), \n",
    "                    cv2.FONT_HERSHEY_SIMPLEX, 0.5, (0,0,0), 1, cv2.LINE_AA)\n",
    "        cv2.putText(image, str(Lcounter), \n",
    "                    (10,60), \n",
    "                    cv2.FONT_HERSHEY_SIMPLEX, 2, (255,255,255), 2, cv2.LINE_AA)\n",
    "        \n",
    "        cv2.rectangle(image, (2000,0), (1600,73), (245,117,16), -1)\n",
    "        cv2.putText(image, 'REPS', (15,12), \n",
    "                    cv2.FONT_HERSHEY_SIMPLEX, 0.5, (0,0,0), 1, cv2.LINE_AA)\n",
    "        cv2.putText(image, str(Rcounter), \n",
    "                    (1800,60), \n",
    "                    cv2.FONT_HERSHEY_SIMPLEX, 2, (255,255,255), 2, cv2.LINE_AA)\n",
    "        \n",
    "        # Stage data\n",
    "        cv2.putText(image, 'STAGE', (65,12), \n",
    "                    cv2.FONT_HERSHEY_SIMPLEX, 0.5, (0,0,0), 1, cv2.LINE_AA)\n",
    "        cv2.putText(image, Lstage, \n",
    "                    (60,60), \n",
    "                    cv2.FONT_HERSHEY_SIMPLEX, 2, (255,255,255), 2, cv2.LINE_AA)\n",
    "        cv2.putText(image, 'STAGE', (65,12), \n",
    "                    cv2.FONT_HERSHEY_SIMPLEX, 0.5, (0,0,0), 1, cv2.LINE_AA)\n",
    "        cv2.putText(image, Rstage, \n",
    "                    (1620,60), \n",
    "                    cv2.FONT_HERSHEY_SIMPLEX, 2, (255,255,255), 2, cv2.LINE_AA)    \n",
    "        \n",
    "        # Render detections\n",
    "        if (Lstage == \"up\"):\n",
    "            mp_drawing.draw_landmarks(image, results.pose_landmarks, mp_pose.POSE_CONNECTIONS,\n",
    "                                mp_drawing.DrawingSpec(color=(0,0,0), thickness=3, circle_radius=2), \n",
    "                                mp_drawing.DrawingSpec(color=(230,0,110), thickness=2, circle_radius=2) \n",
    "                                )  \n",
    "        if (Rstage == \"up\"):\n",
    "            mp_drawing.draw_landmarks(image, results.pose_landmarks, mp_pose.POSE_CONNECTIONS,\n",
    "                                mp_drawing.DrawingSpec(color=(0,0,0), thickness=3, circle_radius=2), \n",
    "                                mp_drawing.DrawingSpec(color=(230,110,0), thickness=2, circle_radius=2) \n",
    "                                )  \n",
    "        if (Rstage == \"down\" and Lstage == \"down\"):\n",
    "            mp_drawing.draw_landmarks(image, results.pose_landmarks, mp_pose.POSE_CONNECTIONS,\n",
    "                                mp_drawing.DrawingSpec(color=(0,0,0), thickness=3, circle_radius=2), \n",
    "                                mp_drawing.DrawingSpec(color=(230,0,0), thickness=2, circle_radius=2) \n",
    "                                )  \n",
    "        if (Rstage == \"up\" and Lstage == \"up\"):\n",
    "            mp_drawing.draw_landmarks(image, results.pose_landmarks, mp_pose.POSE_CONNECTIONS,\n",
    "                                mp_drawing.DrawingSpec(color=(0,0,0), thickness=3, circle_radius=2), \n",
    "                                mp_drawing.DrawingSpec(color=(230,110,110), thickness=2, circle_radius=2) \n",
    "                                )          \n",
    "        \n",
    "        cv2.imshow('Mediapipe Feed', image)\n",
    "\n",
    "        if cv2.waitKey(10) & 0xFF == ord('q'):\n",
    "            break\n",
    "\n",
    "    cap.release()\n",
    "    cv2.destroyAllWindows()\n",
    "    for i in range (1,5):\n",
    "        cv2.waitKey(1)"
   ]
  },
  {
   "cell_type": "code",
   "execution_count": null,
   "metadata": {},
   "outputs": [],
   "source": []
  },
  {
   "cell_type": "code",
   "execution_count": null,
   "metadata": {},
   "outputs": [],
   "source": []
  },
  {
   "cell_type": "code",
   "execution_count": null,
   "metadata": {},
   "outputs": [],
   "source": []
  },
  {
   "cell_type": "code",
   "execution_count": null,
   "metadata": {},
   "outputs": [],
   "source": []
  }
 ],
 "metadata": {
  "kernelspec": {
   "display_name": "Python 3 (ipykernel)",
   "language": "python",
   "name": "python3"
  },
  "language_info": {
   "codemirror_mode": {
    "name": "ipython",
    "version": 3
   },
   "file_extension": ".py",
   "mimetype": "text/x-python",
   "name": "python",
   "nbconvert_exporter": "python",
   "pygments_lexer": "ipython3",
   "version": "3.11.4"
  }
 },
 "nbformat": 4,
 "nbformat_minor": 4
}
